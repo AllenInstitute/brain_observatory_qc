{
 "cells": [
  {
   "cell_type": "code",
   "execution_count": 1,
   "metadata": {},
   "outputs": [],
   "source": [
    "from pathlib import Path\n",
    "from brain_observatory_qc.pipeline_dev import paired_plane_registration as ppr\n",
    "import h5py\n",
    "import numpy as np\n",
    "import brain_observatory_qc.data_access.from_lims as from_lims\n",
    "from brain_observatory_qc.pipeline_dev import decrosstalk_roi_timeseries_ica as dc_roi_ts\n",
    "\n",
    "decrosstalk_dir = Path(r'\\\\allen\\programs\\mindscope\\workgroups\\learning\\pipeline_validation\\decrosstalk')\n",
    "data_dir = decrosstalk_dir / 'paired_registration_data'"
   ]
  },
  {
   "cell_type": "code",
   "execution_count": 3,
   "metadata": {},
   "outputs": [],
   "source": [
    "oeid = 1167237081\n",
    "paired_id = ppr.get_paired_plane_id(oeid)\n",
    "paired_reg_fn = data_dir / f'{paired_id}_paired_registered.h5'\n",
    "\n"
   ]
  },
  {
   "cell_type": "code",
   "execution_count": 4,
   "metadata": {},
   "outputs": [],
   "source": [
    "## To get the whole decrosstalk_data\n",
    "# It will take > 2x RAM of the h5 file\n",
    "decrosstalk_data, alpha_list, beta_list = dc_roi_ts.decrosstalk_timeseries_exp(oeid, paired_reg_fn)\n",
    "\n",
    "\n",
    "dc_fov_dir = data_dir / 'decrosstalk_roi_timeseries'\n",
    "if not dc_fov_dir.exists():\n",
    "    dc_fov_dir.mkdir()\n",
    "decrosstalk_fn = dc_fov_dir / f'{oeid}_decrosstalk.h5'\n",
    "with h5py.File(decrosstalk_fn, 'w') as f:\n",
    "    f.create_dataset('data', data=decrosstalk_data)\n",
    "    f.create_dataset('alpha_list', data=alpha_list)\n",
    "    f.create_dataset('beta_list', data=beta_list)\n",
    "\n",
    "# 27 min    "
   ]
  },
  {
   "cell_type": "code",
   "execution_count": null,
   "metadata": {},
   "outputs": [],
   "source": [
    "## Just to get alpha and beta for the experiment:\n",
    "_, alpha_list, beta_list = dc_roi_ts.decrosstalk_timeseries_exp(oeid, paired_reg_fn, return_recon=False)\n",
    "alpha = np.mean(alpha_list)\n",
    "beta = np.mean(beta_list)\n",
    "\n",
    "## To reduce RAM usage, you can get the decrosstalk_data in chunks:\n",
    "chunk_size = 5000 # num of frames in each chunk\n",
    "\n",
    "signal_fn = from_lims.get_motion_corrected_movie_filepath(oeid)\n",
    "with h5py.File(signal_fn, 'r') as f:\n",
    "    data_shape = f['data'].shape\n",
    "data_length = data_shape[0]\n",
    "num_chunks = int(np.ceil(data_length / chunk_size))\n",
    "start_frames = np.arange(0, data_length, chunk_size)\n",
    "end_frames = np.append(start_frames[1:], data_length)\n",
    "\n",
    "dc_fov_dir = data_dir / 'decrosstalk_roi_timeseries'\n",
    "if not dc_fov_dir.exists():\n",
    "    dc_fov_dir.mkdir()\n",
    "decrosstalk_fn = dc_fov_dir / f'{oeid}_decrosstalk.h5'\n",
    "\n",
    "i = 0\n",
    "for start_frame, end_frame in zip(start_frames, end_frames):\n",
    "    with h5py.File(signal_fn, 'r') as f:\n",
    "        signal_data = f['data'][start_frame:end_frame]\n",
    "    with h5py.File(paired_reg_fn, 'r') as f:\n",
    "        paired_data = f['data'][start_frame:end_frame]\n",
    "    recon_signal_data = np.zeros_like(signal_data)\n",
    "    for j in range(signal_data.shape[0]):\n",
    "        recon_signal_data[j, :, :] = dc_roi_ts.apply_mixing_matrix(alpha, beta, signal_data[j, :, :], paired_data[j, :, :])[0]\n",
    "\n",
    "    if i == 0:\n",
    "        with h5py.File(decrosstalk_fn, 'w') as f:\n",
    "            f.create_dataset('data', data=recon_signal_data, maxshape=(None, data_shape[1], data_shape[2]))\n",
    "            f.create_dataset('alpha_list', data=alpha_list)\n",
    "            f.create_dataset('beta_list', data=beta_list)\n",
    "\n",
    "    else:\n",
    "        with h5py.File(decrosstalk_fn, 'a') as f:\n",
    "            f['data'].resize((f['data'].shape[0] + recon_signal_data.shape[0]), axis=0)\n",
    "            f['data'][start_frame:end_frame] = recon_signal_data\n",
    "    i += 1"
   ]
  }
 ],
 "metadata": {
  "kernelspec": {
   "display_name": "allenvisb",
   "language": "python",
   "name": "python3"
  },
  "language_info": {
   "codemirror_mode": {
    "name": "ipython",
    "version": 3
   },
   "file_extension": ".py",
   "mimetype": "text/x-python",
   "name": "python",
   "nbconvert_exporter": "python",
   "pygments_lexer": "ipython3",
   "version": "3.8.13"
  },
  "orig_nbformat": 4
 },
 "nbformat": 4,
 "nbformat_minor": 2
}
