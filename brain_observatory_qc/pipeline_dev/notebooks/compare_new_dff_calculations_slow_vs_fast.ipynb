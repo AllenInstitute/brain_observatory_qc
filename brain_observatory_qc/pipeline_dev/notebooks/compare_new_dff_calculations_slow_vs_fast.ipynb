{
 "cells": [
  {
   "cell_type": "markdown",
   "metadata": {},
   "source": [
    "# Test speed_up_new_dff branch\n",
    "- Matt has improved new_dff calculation codes by implementing pandas rolling\n",
    "- Test the speed and compare the results with previous codes (_SLOW)"
   ]
  },
  {
   "cell_type": "code",
   "execution_count": 3,
   "metadata": {},
   "outputs": [],
   "source": [
    "from brain_observatory_qc.pipeline_dev import calculate_new_dff as cnd\n",
    "from brain_observatory_qc.data_access import from_lims"
   ]
  },
  {
   "cell_type": "markdown",
   "metadata": {},
   "source": [
    "## Testing with new calculations"
   ]
  },
  {
   "cell_type": "markdown",
   "metadata": {},
   "source": [
    "## Testing with previous results"
   ]
  },
  {
   "cell_type": "code",
   "execution_count": 10,
   "metadata": {},
   "outputs": [
    {
     "data": {
      "text/html": [
       "<div>\n",
       "<style scoped>\n",
       "    .dataframe tbody tr th:only-of-type {\n",
       "        vertical-align: middle;\n",
       "    }\n",
       "\n",
       "    .dataframe tbody tr th {\n",
       "        vertical-align: top;\n",
       "    }\n",
       "\n",
       "    .dataframe thead th {\n",
       "        text-align: right;\n",
       "    }\n",
       "</style>\n",
       "<table border=\"1\" class=\"dataframe\">\n",
       "  <thead>\n",
       "    <tr style=\"text-align: right;\">\n",
       "      <th></th>\n",
       "      <th>cell_specimen_id</th>\n",
       "      <th>cell_roi_id</th>\n",
       "      <th>np_corrected</th>\n",
       "      <th>np_not_corrected</th>\n",
       "      <th>r</th>\n",
       "      <th>r_out_of_range</th>\n",
       "    </tr>\n",
       "  </thead>\n",
       "  <tbody>\n",
       "    <tr>\n",
       "      <th>0</th>\n",
       "      <td>1263873779</td>\n",
       "      <td>1262574825</td>\n",
       "      <td>[322.33874682846107, 317.5853936385364, 307.04...</td>\n",
       "      <td>[453.5748299319728, 444.7244897959184, 439.869...</td>\n",
       "      <td>0.376</td>\n",
       "      <td>0</td>\n",
       "    </tr>\n",
       "    <tr>\n",
       "      <th>1</th>\n",
       "      <td>1263873773</td>\n",
       "      <td>1262574822</td>\n",
       "      <td>[467.1923504286358, 313.32750179403973, 368.01...</td>\n",
       "      <td>[503.3114754098361, 472.8274785323966, 485.845...</td>\n",
       "      <td>0.309</td>\n",
       "      <td>0</td>\n",
       "    </tr>\n",
       "    <tr>\n",
       "      <th>2</th>\n",
       "      <td>1263873744</td>\n",
       "      <td>1262574765</td>\n",
       "      <td>[673.7378439892402, 714.0467092902954, 761.412...</td>\n",
       "      <td>[486.80167597765364, 455.0817039106145, 452.64...</td>\n",
       "      <td>0.208</td>\n",
       "      <td>0</td>\n",
       "    </tr>\n",
       "    <tr>\n",
       "      <th>3</th>\n",
       "      <td>1263873738</td>\n",
       "      <td>1262574748</td>\n",
       "      <td>[661.9483343439027, 682.7125206691157, 635.464...</td>\n",
       "      <td>[473.20415879017014, 470.58349086326405, 465.5...</td>\n",
       "      <td>0.288</td>\n",
       "      <td>0</td>\n",
       "    </tr>\n",
       "    <tr>\n",
       "      <th>4</th>\n",
       "      <td>1263873735</td>\n",
       "      <td>1262574738</td>\n",
       "      <td>[476.038245139476, 364.8985731191886, 472.6741...</td>\n",
       "      <td>[518.200338123415, 494.3474218089603, 485.4615...</td>\n",
       "      <td>0.276</td>\n",
       "      <td>0</td>\n",
       "    </tr>\n",
       "  </tbody>\n",
       "</table>\n",
       "</div>"
      ],
      "text/plain": [
       "   cell_specimen_id  cell_roi_id  \\\n",
       "0        1263873779   1262574825   \n",
       "1        1263873773   1262574822   \n",
       "2        1263873744   1262574765   \n",
       "3        1263873738   1262574748   \n",
       "4        1263873735   1262574738   \n",
       "\n",
       "                                        np_corrected  \\\n",
       "0  [322.33874682846107, 317.5853936385364, 307.04...   \n",
       "1  [467.1923504286358, 313.32750179403973, 368.01...   \n",
       "2  [673.7378439892402, 714.0467092902954, 761.412...   \n",
       "3  [661.9483343439027, 682.7125206691157, 635.464...   \n",
       "4  [476.038245139476, 364.8985731191886, 472.6741...   \n",
       "\n",
       "                                    np_not_corrected      r  r_out_of_range  \n",
       "0  [453.5748299319728, 444.7244897959184, 439.869...  0.376               0  \n",
       "1  [503.3114754098361, 472.8274785323966, 485.845...  0.309               0  \n",
       "2  [486.80167597765364, 455.0817039106145, 452.64...  0.208               0  \n",
       "3  [473.20415879017014, 470.58349086326405, 465.5...  0.288               0  \n",
       "4  [518.200338123415, 494.3474218089603, 485.4615...  0.276               0  "
      ]
     },
     "execution_count": 10,
     "metadata": {},
     "output_type": "execute_result"
    }
   ],
   "source": [
    "oeid = 1167237079\n",
    "np_corrected_df = cnd.get_np_corrected_df(oeid)\n",
    "np_corrected_df.head()"
   ]
  },
  {
   "cell_type": "code",
   "execution_count": 11,
   "metadata": {},
   "outputs": [
    {
     "name": "stderr",
     "output_type": "stream",
     "text": [
      "c:\\users\\jinho.kim\\github\\allensdk\\allensdk\\brain_observatory\\behavior\\data_objects\\stimuli\\presentations.py:48: FutureWarning: pandas.Int64Index is deprecated and will be removed from pandas in a future version. Use pandas.Index with the appropriate dtype instead.\n",
      "  presentations.index = pd.Int64Index(\n",
      "c:\\users\\jinho.kim\\github\\allensdk\\allensdk\\brain_observatory\\behavior\\data_objects\\eye_tracking\\rig_geometry.py:233: UserWarning: pandas only supports SQLAlchemy connectable (engine/connection) or database string URI or sqlite3 DBAPI2 connection. Other DBAPI2 objects are not tested. Please consider using SQLAlchemy.\n",
      "  rig_geometry = pd.read_sql(query, lims_db.get_connection())\n",
      "c:\\users\\jinho.kim\\github\\allensdk\\allensdk\\brain_observatory\\behavior\\data_objects\\cell_specimens\\cell_specimens.py:260: UserWarning: pandas only supports SQLAlchemy connectable (engine/connection) or database string URI or sqlite3 DBAPI2 connection. Other DBAPI2 objects are not tested. Please consider using SQLAlchemy.\n",
      "  initial_cs_table = pd.read_sql(query, lims_db.get_connection())\n"
     ]
    }
   ],
   "source": [
    "inactive_kernel_size = 30\n",
    "inactive_percentile = 10\n",
    "frame_rate, timestamps = cnd.get_correct_frame_rate(oeid)\n",
    "long_filter_length = int(round(frame_rate * 60 * inactive_kernel_size))\n",
    "short_filter_length = int(round(frame_rate * 60 * 10))  # 10 min\n"
   ]
  },
  {
   "cell_type": "code",
   "execution_count": 29,
   "metadata": {},
   "outputs": [],
   "source": [
    "ci = 1\n",
    "crid = np_corrected_df.iloc[ci]['cell_roi_id']\n",
    "corrected_trace = np_corrected_df.iloc[ci]['np_corrected']"
   ]
  },
  {
   "cell_type": "code",
   "execution_count": 30,
   "metadata": {},
   "outputs": [
    {
     "name": "stdout",
     "output_type": "stream",
     "text": [
      "0.12221813201904297\n",
      "17.829222917556763\n",
      "8.98686000714426e-06\n",
      "2.7261048306521535e-05\n",
      "0.00036012770175264115\n",
      "0.3296593698854337\n"
     ]
    }
   ],
   "source": [
    "import time\n",
    "import numpy as np\n",
    "\n",
    "start = time.time()\n",
    "new_dff_faster, _ = cnd.new_dff_each_cell(corrected_trace, crid, long_filter_length,\n",
    "                                    inactive_percentile, short_filter_length, frame_rate)\n",
    "end = time.time()\n",
    "print(end - start)\n",
    "\n",
    "start = time.time()\n",
    "new_dff_slower, _ = cnd.new_dff_each_cell_SLOW(corrected_trace, crid, long_filter_length,\n",
    "                                    inactive_percentile, short_filter_length, frame_rate)\n",
    "end = time.time()\n",
    "print(end - start)\n",
    "\n",
    "diff = np.abs(new_dff_slower - new_dff_faster)\n",
    "print(np.mean(diff))\n",
    "print(np.mean(diff[diff>0]))\n",
    "print(np.max(diff)/max(np.max(new_dff_slower), np.max(new_dff_faster)))\n",
    "print(len(diff[diff>0])/len(diff))"
   ]
  }
 ],
 "metadata": {
  "kernelspec": {
   "display_name": "allenvisb",
   "language": "python",
   "name": "python3"
  },
  "language_info": {
   "codemirror_mode": {
    "name": "ipython",
    "version": 3
   },
   "file_extension": ".py",
   "mimetype": "text/x-python",
   "name": "python",
   "nbconvert_exporter": "python",
   "pygments_lexer": "ipython3",
   "version": "3.8.13"
  },
  "orig_nbformat": 4
 },
 "nbformat": 4,
 "nbformat_minor": 2
}
