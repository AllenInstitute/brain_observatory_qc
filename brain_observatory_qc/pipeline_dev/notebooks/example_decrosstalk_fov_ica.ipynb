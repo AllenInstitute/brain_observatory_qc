{
 "cells": [
  {
   "cell_type": "code",
   "execution_count": 31,
   "metadata": {},
   "outputs": [],
   "source": [
    "from pathlib import Path\n",
    "from brain_observatory_qc.pipeline_dev import paired_plane_registration as ppr\n",
    "import h5py\n",
    "import numpy as np\n",
    "import brain_observatory_qc.data_access.from_lims as from_lims\n",
    "from brain_observatory_qc.pipeline_dev import decrosstalk_fov_ica as dc_fov\n",
    "from suite2p.registration import nonrigid\n",
    "from importlib import reload\n",
    "\n",
    "decrosstalk_dir = Path(r'\\\\allen\\programs\\mindscope\\workgroups\\learning\\pipeline_validation\\decrosstalk')\n",
    "data_dir = decrosstalk_dir / 'paired_registration_data'\n"
   ]
  },
  {
   "cell_type": "code",
   "execution_count": 27,
   "metadata": {},
   "outputs": [
    {
     "name": "stdout",
     "output_type": "stream",
     "text": [
      "<class 'numpy.int16'>\n",
      "<class 'numpy.int16'>\n",
      "<class 'numpy.int16'>\n",
      "<class 'numpy.int16'>\n",
      "<class 'numpy.int16'>\n",
      "<class 'numpy.int16'>\n",
      "<class 'numpy.int16'>\n",
      "<class 'numpy.int16'>\n"
     ]
    }
   ],
   "source": [
    "# Total 30 min for oeid 1167237079\n",
    "## To get alpha and beta for the experiment:\n",
    "oeid = 1167237079\n",
    "alpha_list, beta_list, signal_mean_list, paired_mean_list, recon_signal_list, recon_paired_list = \\\n",
    "    dc_fov.decrosstalk_movie(oeid)\n",
    "alpha = np.mean(alpha_list)\n",
    "beta = np.mean(beta_list)\n",
    "\n",
    "## To reduce RAM usage, you can get the decrosstalk_data in chunks:\n",
    "chunk_size = 5000 # num of frames in each chunk\n",
    "\n",
    "signal_fn = from_lims.get_motion_corrected_movie_filepath(oeid)\n",
    "with h5py.File(signal_fn, 'r') as f:\n",
    "    data_shape = f['data'].shape\n",
    "data_length = data_shape[0]\n",
    "num_chunks = int(np.ceil(data_length / chunk_size))\n",
    "start_frames = np.arange(0, data_length, chunk_size)\n",
    "end_frames = np.append(start_frames[1:], data_length)\n",
    "\n",
    "dc_fov_dir = data_dir / 'decrosstalk_fov_ica'\n",
    "if not dc_fov_dir.exists():\n",
    "    dc_fov_dir.mkdir()\n",
    "decrosstalk_fn = dc_fov_dir / f'{oeid}_decrosstalk_test.h5'\n",
    "\n",
    "# Get the paired plane raw movie fn\n",
    "paired_oeid = from_lims.get_paired_plane_id(oeid)\n",
    "paired_oeid_path = from_lims.get_motion_xy_offset_filepath(paired_oeid).parent.parent\n",
    "paired_raw_movie_h5 = paired_oeid_path / (str(paired_oeid) + '.h5')\n",
    "if not paired_raw_movie_h5.exists():\n",
    "    raise FileNotFoundError(f'Paired raw movie not found at {paired_raw_movie_h5}')\n",
    "\n",
    "# Get the registration info from the signal plane\n",
    "shifts_df = ppr.get_s2p_motion_transform(oeid)\n",
    "if_nonrigid = True if 'nonrigid_x' in shifts_df.columns else False\n",
    "\n",
    "i = 0\n",
    "for start_frame, end_frame in zip(start_frames, end_frames):\n",
    "    with h5py.File(signal_fn, 'r') as f:\n",
    "        signal_data = f['data'][start_frame:end_frame]\n",
    "    with h5py.File(paired_raw_movie_h5, 'r') as f:\n",
    "        epoch_data = f['data'][start_frame : end_frame]\n",
    "\n",
    "        # Apply the registration to raw movie of the paired plane\n",
    "        y = shifts_df['y'].values[start_frame : end_frame]\n",
    "        x = shifts_df['x'].values[start_frame : end_frame]\n",
    "        if if_nonrigid:\n",
    "            nonrigid_y = np.vstack(shifts_df['nonrigid_y'].values)\n",
    "            nonrigid_x = np.vstack(shifts_df['nonrigid_x'].values)\n",
    "            nonrigid_y = nonrigid_y[start_frame : end_frame, :]\n",
    "            nonrigid_x = nonrigid_x[start_frame : end_frame, :]\n",
    "            # from default parameters:\n",
    "            # TODO: read from a file\n",
    "            Ly1 = 512\n",
    "            Lx1 = 512\n",
    "            block_size = (128, 128)\n",
    "            blocks = nonrigid.make_blocks(Ly=Ly1, Lx=Lx1, block_size=block_size)\n",
    "        paired_data = epoch_data.copy()\n",
    "        for frame, dy, dx in zip(paired_data, y, x):\n",
    "            frame[:] = ppr.shift_frame(frame=frame, dy=dy, dx=dx)\n",
    "        if if_nonrigid:\n",
    "            paired_data = nonrigid.transform_data(paired_data, yblock=blocks[0], xblock=blocks[1], nblocks=blocks[2],\n",
    "                                                ymax1=nonrigid_y, xmax1=nonrigid_x, bilinear=True)\n",
    "\n",
    "    recon_signal_data = np.zeros_like(signal_data)\n",
    "    for j in range(signal_data.shape[0]):\n",
    "        recon_signal_data[j, :, :] = dc_fov.apply_mixing_matrix(alpha, beta, signal_data[j, :, :], paired_data[j, :, :])[0]\n",
    "\n",
    "    if i == 0:\n",
    "        with h5py.File(decrosstalk_fn, 'w') as f:\n",
    "            f.create_dataset('data', data=recon_signal_data, maxshape=(None, data_shape[1], data_shape[2]))\n",
    "            f.create_dataset('alpha_list', data=alpha_list)\n",
    "            f.create_dataset('beta_list', data=beta_list)\n",
    "\n",
    "    else:\n",
    "        with h5py.File(decrosstalk_fn, 'a') as f:\n",
    "            f['data'].resize((f['data'].shape[0] + recon_signal_data.shape[0]), axis=0)\n",
    "            f['data'][start_frame:end_frame] = recon_signal_data\n",
    "    i += 1"
   ]
  },
  {
   "cell_type": "markdown",
   "metadata": {},
   "source": [
    "# Estimating optimal sigma for high-pass filtering"
   ]
  },
  {
   "cell_type": "code",
   "execution_count": 60,
   "metadata": {},
   "outputs": [],
   "source": [
    "reload(dc_fov)\n",
    "\n",
    "# this takes about 90 min\n",
    "sigma_optimal = dc_fov.find_optimal_sigma_exp(oeid)\n",
    "# This takes about 5 min\n",
    "alpha_list, beta_list, signal_mean_list, paired_mean_list, recon_signal_list, recon_paired_list = \\\n",
    "    dc_fov.decrosstalk_movie(oeid, filter_sigma_um = sigma_optimal)\n"
   ]
  }
 ],
 "metadata": {
  "kernelspec": {
   "display_name": "allenvisb",
   "language": "python",
   "name": "python3"
  },
  "language_info": {
   "codemirror_mode": {
    "name": "ipython",
    "version": 3
   },
   "file_extension": ".py",
   "mimetype": "text/x-python",
   "name": "python",
   "nbconvert_exporter": "python",
   "pygments_lexer": "ipython3",
   "version": "3.8.13"
  },
  "orig_nbformat": 4
 },
 "nbformat": 4,
 "nbformat_minor": 2
}
