{
 "cells": [
  {
   "cell_type": "code",
   "execution_count": null,
   "metadata": {},
   "outputs": [],
   "source": [
    "# In total takes about 30 minutes for one experiment\n",
    "from pathlib import Path\n",
    "from brain_observatory_qc.pipeline_dev import paired_plane_registration as ppr\n",
    "import h5py\n",
    "\n",
    "from brain_observatory_qc.pipeline_dev import decrosstalk_roi_images_ica as dc_roi_images\n",
    "\n",
    "decrosstalk_dir = Path(r'\\\\allen\\programs\\mindscope\\workgroups\\learning\\pipeline_validation\\decrosstalk')\n",
    "data_dir = decrosstalk_dir / 'paired_registration_data'"
   ]
  },
  {
   "cell_type": "code",
   "execution_count": null,
   "metadata": {},
   "outputs": [],
   "source": [
    "oeid = 1167237079\n",
    "paired_id = ppr.get_paired_plane_id(oeid)\n",
    "paired_reg_fn = data_dir / f'{paired_id}_paired_registered.h5'\n",
    "decrosstalk_data, alpha_list, beta_list, mean_norm_mi_list = dc_roi_images.decrosstalk_movie_roi_image(oeid, paired_reg_fn)\n"
   ]
  },
  {
   "cell_type": "code",
   "execution_count": null,
   "metadata": {},
   "outputs": [],
   "source": [
    "dc_fov_dir = data_dir / 'decrosstalk_roi_images'\n",
    "if not dc_fov_dir.exists():\n",
    "    dc_fov_dir.mkdir()\n",
    "decrosstalk_fn = dc_fov_dir / f'{oeid}_decrosstalk.h5'\n",
    "with h5py.File(decrosstalk_fn, 'w') as f:\n",
    "    f.create_dataset('data', data=decrosstalk_data)\n",
    "    f.create_dataset('alpha_list', data=alpha_list)\n",
    "    f.create_dataset('beta_list', data=beta_list)"
   ]
  }
 ],
 "metadata": {
  "language_info": {
   "name": "python"
  },
  "orig_nbformat": 4
 },
 "nbformat": 4,
 "nbformat_minor": 2
}
