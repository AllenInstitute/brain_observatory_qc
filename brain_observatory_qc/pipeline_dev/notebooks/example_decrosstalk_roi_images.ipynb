{
 "cells": [
  {
   "cell_type": "code",
   "execution_count": 1,
   "metadata": {},
   "outputs": [],
   "source": [
    "# In total takes about 30 minutes for one experiment\n",
    "from pathlib import Path\n",
    "from brain_observatory_qc.pipeline_dev import paired_plane_registration as ppr\n",
    "import h5py\n",
    "import numpy as np\n",
    "import brain_observatory_qc.data_access.from_lims as from_lims\n",
    "from brain_observatory_qc.pipeline_dev import decrosstalk_roi_images_ica as dc_roi_images\n",
    "from brain_observatory_qc.visualizations.data_processing.ophys import motion_correction\n",
    "from suite2p.registration import nonrigid\n",
    "\n",
    "decrosstalk_dir = Path(r'\\\\allen\\programs\\mindscope\\workgroups\\learning\\pipeline_validation\\decrosstalk')\n",
    "data_dir = decrosstalk_dir / 'paired_registration_data'\n",
    "save_dir = decrosstalk_dir / 'paired_registration_results'"
   ]
  },
  {
   "cell_type": "code",
   "execution_count": 2,
   "metadata": {},
   "outputs": [],
   "source": [
    "# # Added functionality on 2013/11/03\n",
    "# # To get only the episodic mean FOVs, without creating paired plane registered h5 files\n",
    "# # Takes about 2 minutes for a pair\n",
    "# oeid = 1167237081\n",
    "# paired_ep_meanfov = motion_correction.episodic_mean_fov_reg_to_the_paired(oeid)\n",
    "# exp_movie_fn = from_lims.get_motion_corrected_movie_filepath(oeid)\n",
    "# exp_ep_meanfov = motion_correction.episodic_mean_fov(exp_movie_fn)\n"
   ]
  },
  {
   "cell_type": "code",
   "execution_count": 2,
   "metadata": {},
   "outputs": [],
   "source": [
    "oeid = 1098444821\n",
    "signal_ep_meanfov, paired_ep_meanfov = motion_correction.get_signal_paired_ep_meanfov(oeid)"
   ]
  },
  {
   "cell_type": "code",
   "execution_count": 4,
   "metadata": {},
   "outputs": [],
   "source": [
    "save_fn = data_dir / f'{oeid}_mean_epochs_pair.h5'\n",
    "with h5py.File(save_fn, 'w') as f:\n",
    "    f.create_dataset('signal_mean', data=signal_ep_meanfov)\n",
    "    f.create_dataset('paired_mean', data=paired_ep_meanfov)"
   ]
  },
  {
   "cell_type": "code",
   "execution_count": 5,
   "metadata": {},
   "outputs": [],
   "source": [
    "# Total 40 min for oeid 1167237081\n",
    "# To get alpha and beta for the experiment:\n",
    "# oeid = 1167237081\n",
    "oeid = 1098444819\n",
    "alpha_list, beta_list, mean_norm_mi_list, recon_signal, recon_paired = \\\n",
    "    dc_roi_images.decrosstalk_movie_roi_image(oeid)\n",
    "\n",
    "# save the results (episodic mean FOV)\n",
    "dc_roi_dir = data_dir / 'decrosstalk_roi_images'\n",
    "if not dc_roi_dir.exists():\n",
    "    dc_roi_dir.mkdir()\n",
    "dc_roi_fn = dc_roi_dir / f'{oeid}_decrosstalk_roi_images_results.h5'\n",
    "with h5py.File(dc_roi_fn, 'w') as f:\n",
    "    f.create_dataset('alpha_list', data=alpha_list)\n",
    "    f.create_dataset('beta_list', data=beta_list)\n",
    "    f.create_dataset('mean_norm_mi_list', data=mean_norm_mi_list)\n",
    "    f.create_dataset('recon_signal', data=recon_signal)\n",
    "    f.create_dataset('recon_paired', data=recon_paired)\n"
   ]
  },
  {
   "cell_type": "code",
   "execution_count": 4,
   "metadata": {},
   "outputs": [],
   "source": [
    "oeid = 1098444821\n",
    "dc_roi_dir = data_dir / 'decrosstalk_roi_images'\n",
    "dc_roi_fn = dc_roi_dir / f'{oeid}_decrosstalk_roi_images_results.h5'\n",
    "with h5py.File(dc_roi_fn, 'r') as f:\n",
    "    alpha_list = f['alpha_list'][()]\n",
    "    beta_list = f['beta_list'][()]\n",
    "    mean_norm_mi_list = f['mean_norm_mi_list'][()]\n",
    "    # recon_signal = f['recon_signal'][()]\n",
    "    # recon_paired = f['recon_paired'][()]"
   ]
  },
  {
   "cell_type": "code",
   "execution_count": 6,
   "metadata": {},
   "outputs": [
    {
     "data": {
      "text/plain": [
       "1098444819"
      ]
     },
     "execution_count": 6,
     "metadata": {},
     "output_type": "execute_result"
    }
   ],
   "source": [
    "paired_oeid"
   ]
  },
  {
   "cell_type": "code",
   "execution_count": 5,
   "metadata": {},
   "outputs": [],
   "source": [
    "# Reconstruct the signal plane movie using the mixing matrix\n",
    "## To reduce RAM usage, you can get/save the decrosstalk_data in chunks:\n",
    "\n",
    "alpha = np.mean(alpha_list)\n",
    "beta = np.mean(beta_list)\n",
    "\n",
    "chunk_size = 5000 # num of frames in each chunk\n",
    "\n",
    "signal_fn = from_lims.get_motion_corrected_movie_filepath(oeid)\n",
    "with h5py.File(signal_fn, 'r') as f:\n",
    "    data_shape = f['data'].shape\n",
    "data_length = data_shape[0]\n",
    "num_chunks = int(np.ceil(data_length / chunk_size))\n",
    "start_frames = np.arange(0, data_length, chunk_size)\n",
    "end_frames = np.append(start_frames[1:], data_length)\n",
    "\n",
    "dc_roi_dir = data_dir / 'decrosstalk_roi_images'\n",
    "if not dc_roi_dir.exists():\n",
    "    dc_roi_dir.mkdir()\n",
    "decrosstalk_fn = dc_roi_dir / f'{oeid}_decrosstalk_test.h5'\n",
    "\n",
    "# Get the paired plane raw movie fn\n",
    "paired_oeid = from_lims.get_paired_plane_id(oeid)\n",
    "paired_oeid_path = from_lims.get_motion_xy_offset_filepath(paired_oeid).parent.parent\n",
    "paired_raw_movie_h5 = paired_oeid_path / (str(paired_oeid) + '.h5')\n",
    "if not paired_raw_movie_h5.exists():\n",
    "    raise FileNotFoundError(f'Paired raw movie not found at {paired_raw_movie_h5}')\n",
    "\n",
    "# Get the registration info from the signal plane\n",
    "shifts_df = ppr.get_s2p_motion_transform(oeid)\n",
    "if_nonrigid = True if 'nonrigid_x' in shifts_df.columns else False\n",
    "\n",
    "\n",
    "i = 0\n",
    "for start_frame, end_frame in zip(start_frames, end_frames):\n",
    "    with h5py.File(signal_fn, 'r') as f:\n",
    "        signal_data = f['data'][start_frame:end_frame]\n",
    "    with h5py.File(paired_raw_movie_h5, 'r') as f:\n",
    "        epoch_data = f['data'][start_frame:end_frame]\n",
    "\n",
    "        # Apply the registration to raw movie of the paired plane\n",
    "        y = shifts_df['y'].values[start_frame : end_frame]\n",
    "        x = shifts_df['x'].values[start_frame : end_frame]\n",
    "        if if_nonrigid:\n",
    "            nonrigid_y = np.vstack(shifts_df['nonrigid_y'].values)\n",
    "            nonrigid_x = np.vstack(shifts_df['nonrigid_x'].values)\n",
    "            nonrigid_y = nonrigid_y[start_frame : end_frame, :]\n",
    "            nonrigid_x = nonrigid_x[start_frame : end_frame, :]\n",
    "            # from default parameters:\n",
    "            # TODO: read from a file\n",
    "            Ly1 = 512\n",
    "            Lx1 = 512\n",
    "            block_size = (128, 128)\n",
    "            blocks = nonrigid.make_blocks(Ly=Ly1, Lx=Lx1, block_size=block_size)\n",
    "        paired_data = epoch_data.copy()\n",
    "        for frame, dy, dx in zip(paired_data, y, x):\n",
    "            frame[:] = ppr.shift_frame(frame=frame, dy=dy, dx=dx)\n",
    "        if if_nonrigid:\n",
    "            paired_data = nonrigid.transform_data(paired_data, yblock=blocks[0], xblock=blocks[1], nblocks=blocks[2],\n",
    "                                                        ymax1=nonrigid_y, xmax1=nonrigid_x, bilinear=True)\n",
    "\n",
    "    recon_signal_data = np.zeros_like(signal_data)\n",
    "    for j in range(signal_data.shape[0]):\n",
    "        recon_signal_data[j, :, :] = dc_roi_images.apply_mixing_matrix(alpha, beta, signal_data[j, :, :], paired_data[j, :, :])[0]\n",
    "\n",
    "    if i == 0:\n",
    "        with h5py.File(decrosstalk_fn, 'w') as f:\n",
    "            f.create_dataset('data', data=recon_signal_data, maxshape=(None, data_shape[1], data_shape[2]))\n",
    "            f.create_dataset('alpha_list', data=alpha_list)\n",
    "            f.create_dataset('beta_list', data=beta_list)\n",
    "            f.create_dataset('mean_norm_mi_list', data=mean_norm_mi_list)\n",
    "    else:\n",
    "        with h5py.File(decrosstalk_fn, 'a') as f:\n",
    "            f['data'].resize((f['data'].shape[0] + recon_signal_data.shape[0]), axis=0)\n",
    "            f['data'][start_frame:end_frame] = recon_signal_data\n",
    "    i += 1"
   ]
  }
 ],
 "metadata": {
  "kernelspec": {
   "display_name": "allenvisb",
   "language": "python",
   "name": "python3"
  },
  "language_info": {
   "codemirror_mode": {
    "name": "ipython",
    "version": 3
   },
   "file_extension": ".py",
   "mimetype": "text/x-python",
   "name": "python",
   "nbconvert_exporter": "python",
   "pygments_lexer": "ipython3",
   "version": "3.8.18"
  },
  "orig_nbformat": 4
 },
 "nbformat": 4,
 "nbformat_minor": 2
}
