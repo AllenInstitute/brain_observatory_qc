{
 "cells": [
  {
   "cell_type": "markdown",
   "metadata": {},
   "source": [
    "# Using calculate_new_dff.py"
   ]
  },
  {
   "cell_type": "code",
   "execution_count": null,
   "metadata": {},
   "outputs": [],
   "source": [
    "import os\n",
    "from pathlib import Path\n",
    "import calculate_new_dff\n",
    "# Need to add the 'pipeline_dev' folder to the environment path\n"
   ]
  },
  {
   "cell_type": "code",
   "execution_count": null,
   "metadata": {},
   "outputs": [],
   "source": [
    "save_dir = 'directory/to/save'\n",
    "ophys_experiment_id = 1166555642 \n",
    "\n",
    "if not os.path.isdir(save_dir):\n",
    "    os.makedirs(save_dir)\n",
    "# save_dir = Path(r'\\\\allen\\programs\\mindscope\\workgroups\\learning\\pipeline_validation\\dff'.replace('\\\\','/'))\n",
    "# Get new dff DataFrame\n",
    "new_dff_df, timestamps = calculate_new_dff.get_new_dff_df(ophys_experiment_id)\n",
    "# Save as h5 file, because of the timestamps\n",
    "calculate_new_dff.save_new_dff_h5(save_dir, new_dff_df, timestamps, ophys_experiment_id)\n",
    "# Draw figures and save them\n",
    "calculate_new_dff.draw_fig_new_dff(save_dir, new_dff_df, timestamps, ophys_experiment_id)"
   ]
  }
 ],
 "metadata": {
  "kernelspec": {
   "display_name": "Python 3.8.13 ('allenvisb')",
   "language": "python",
   "name": "python3"
  },
  "language_info": {
   "codemirror_mode": {
    "name": "ipython",
    "version": 3
   },
   "file_extension": ".py",
   "mimetype": "text/x-python",
   "name": "python",
   "nbconvert_exporter": "python",
   "pygments_lexer": "ipython3",
   "version": "3.8.13"
  },
  "orig_nbformat": 4,
  "vscode": {
   "interpreter": {
    "hash": "f38f125ca7a4365ded92298238ddd4d6a681625157c70af5c9711f987c5831ee"
   }
  }
 },
 "nbformat": 4,
 "nbformat_minor": 2
}
