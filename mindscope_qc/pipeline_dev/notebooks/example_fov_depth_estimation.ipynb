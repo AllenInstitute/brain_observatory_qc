{
 "cells": [
  {
   "cell_type": "markdown",
   "metadata": {},
   "source": [
    "# FOV depth estimation code use example"
   ]
  },
  {
   "cell_type": "code",
   "execution_count": null,
   "metadata": {},
   "outputs": [],
   "source": [
    "import numpy as np\n",
    "import pandas as pd\n",
    "import matplotlib.pyplot as plt\n",
    "from pystackreg import StackReg\n",
    "import os, time, h5py, scipy, skimage, cv2, tifffile, napari\n",
    "from pathlib import Path\n",
    "from visual_behavior.data_access import from_lims as vba_from_lims \n",
    "from visual_behavior.data_access import from_lims_utilities as vba_from_lims_utilities\n",
    "from visual_behavior import database as db\n",
    "from mindscope_qc.data_access import from_lims as mqc_from_lims\n",
    "from mindscope_qc.data_access import from_lims_utilities as mqc_from_lims_utilities\n",
    "\n",
    "import depth_estimation_module as dem\n",
    "\n"
   ]
  },
  {
   "cell_type": "code",
   "execution_count": null,
   "metadata": {},
   "outputs": [],
   "source": [
    "# Gather data \n",
    "container_id = \n",
    "\n",
    "matched_plane_indice = []\n",
    "corrcoef = []\n"
   ]
  }
 ],
 "metadata": {
  "kernelspec": {
   "display_name": "Python 3.8.13 ('allenvisb')",
   "language": "python",
   "name": "python3"
  },
  "language_info": {
   "name": "python",
   "version": "3.8.13"
  },
  "orig_nbformat": 4,
  "vscode": {
   "interpreter": {
    "hash": "f38f125ca7a4365ded92298238ddd4d6a681625157c70af5c9711f987c5831ee"
   }
  }
 },
 "nbformat": 4,
 "nbformat_minor": 2
}
